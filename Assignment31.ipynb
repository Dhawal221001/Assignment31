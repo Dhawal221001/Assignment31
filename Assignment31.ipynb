{
 "cells": [
  {
   "cell_type": "markdown",
   "id": "ca24f9f5-7454-48b6-aa8c-33b8d311d1fb",
   "metadata": {},
   "source": [
    "## Q1. What is the Probability density function?"
   ]
  },
  {
   "cell_type": "markdown",
   "id": "5b43e206-a9f2-4373-9fa4-6d8a78321b31",
   "metadata": {},
   "source": [
    "###  defines the probability function representing the density of a continuous random variable lying between a specific range of values"
   ]
  },
  {
   "cell_type": "markdown",
   "id": "51784d9c-51e6-4b22-84d2-a6755ff2e414",
   "metadata": {},
   "source": [
    "## Q2. What are the types of Probability distribution?"
   ]
  },
  {
   "cell_type": "markdown",
   "id": "adc0a0a8-6fea-404c-b404-2f69f0b18323",
   "metadata": {},
   "source": [
    "###  Discrete probability distributions and Continuous probability distributions."
   ]
  },
  {
   "cell_type": "markdown",
   "id": "9ebdd8fc-9562-436c-9f10-58eeeb9d8877",
   "metadata": {},
   "source": [
    "## Q3. Write a Python function to calculate the probability density function of a normal distribution with given mean and standard deviation at a given point."
   ]
  },
  {
   "cell_type": "code",
   "execution_count": 2,
   "id": "a2054647-a764-4c03-b957-4165958af35c",
   "metadata": {},
   "outputs": [],
   "source": [
    "import math as m"
   ]
  },
  {
   "cell_type": "code",
   "execution_count": 59,
   "id": "bf27b00f-1c9d-4466-82fb-48d2384d611e",
   "metadata": {},
   "outputs": [
    {
     "ename": "SyntaxError",
     "evalue": "cannot assign to function call here. Maybe you meant '==' instead of '='? (3276369394.py, line 3)",
     "output_type": "error",
     "traceback": [
      "\u001b[0;36m  Cell \u001b[0;32mIn[59], line 3\u001b[0;36m\u001b[0m\n\u001b[0;31m    f(x)= m.exp(-(((x-mu)/sigma)**2)/2)/(sigma*m.sqrt(2(m.pi)))\u001b[0m\n\u001b[0m    ^\u001b[0m\n\u001b[0;31mSyntaxError\u001b[0m\u001b[0;31m:\u001b[0m cannot assign to function call here. Maybe you meant '==' instead of '='?\n"
     ]
    }
   ],
   "source": [
    "def normal_pdf(mu,sigma,x):\n",
    "    ## Here mu is mean of distribution and sigma is standard deviation.\n",
    "    f(x)= m.exp(-(((x-mu)/sigma)**2)/2)/(sigma*m.sqrt(2(m.pi)))\n",
    "    print(f(x))"
   ]
  },
  {
   "cell_type": "markdown",
   "id": "30f464d9-33eb-4424-b9d0-ac09d8651975",
   "metadata": {},
   "source": [
    "## Q4. What are the properties of Binomial distribution? Give two examples of events where binomial distribution can be applied."
   ]
  },
  {
   "cell_type": "markdown",
   "id": "3041c6f0-c57e-4836-92af-a4a50fada486",
   "metadata": {},
   "source": [
    "### Properties of Binomial distribution:\n",
    "### 1.Every trial is an independent trial on its own, this means that the outcome of one trial has no effect on the outcome of another trial.\n",
    "### 2.Only the successful attempts are calculated out of 'n' independent trials.\n",
    "### 3.There is a fixed number of 'n' times repeated trials in a given experiment."
   ]
  },
  {
   "cell_type": "markdown",
   "id": "396373a1-3ce8-4ef5-98ad-316c22378d1a",
   "metadata": {},
   "source": [
    "### Examples of binomial distribution:\n",
    "### 1. Number of heads in 3 consecutive toss.\n",
    "### 2. Both the outcomes are even in 2 consecutive tosses of dice."
   ]
  },
  {
   "cell_type": "markdown",
   "id": "0de88700-f16f-47c7-82d0-b3effbd7e2b0",
   "metadata": {},
   "source": [
    "## Q5. Generate a random sample of size 1000 from a binomial distribution with probability of success 0.4 and plot a histogram of the results using matplotlib."
   ]
  },
  {
   "cell_type": "code",
   "execution_count": 26,
   "id": "f0e27695-9d4c-44d4-b13a-fd976d18d3e0",
   "metadata": {},
   "outputs": [],
   "source": [
    "import numpy as np"
   ]
  },
  {
   "cell_type": "code",
   "execution_count": 66,
   "id": "24954ef5-4fac-4a00-859d-15b501157bd5",
   "metadata": {},
   "outputs": [],
   "source": [
    "sample=np.random.binomial(1000,0.4,size=1000)"
   ]
  },
  {
   "cell_type": "code",
   "execution_count": 67,
   "id": "effde484-33dd-48b1-a597-db4cf4fafdf0",
   "metadata": {},
   "outputs": [
    {
     "data": {
      "text/plain": [
       "array([402, 400, 388, 376, 409, 388, 382, 409, 369, 395, 368, 407, 418,\n",
       "       427, 394, 396, 387, 412, 393, 406, 410, 377, 400, 406, 411, 389,\n",
       "       403, 386, 393, 395, 414, 395, 406, 395, 398, 408, 394, 434, 413,\n",
       "       395, 397, 404, 406, 385, 420, 410, 401, 403, 381, 394, 381, 383,\n",
       "       396, 406, 403, 389, 403, 431, 415, 400, 412, 410, 382, 392, 381,\n",
       "       409, 414, 413, 394, 387, 415, 390, 397, 392, 385, 388, 385, 411,\n",
       "       384, 396, 416, 394, 416, 393, 372, 392, 419, 392, 389, 427, 388,\n",
       "       423, 391, 406, 411, 382, 366, 415, 378, 427, 401, 420, 401, 418,\n",
       "       407, 401, 401, 390, 377, 435, 394, 372, 375, 369, 388, 389, 394,\n",
       "       377, 365, 402, 379, 404, 373, 367, 406, 418, 400, 404, 386, 402,\n",
       "       383, 414, 404, 424, 408, 407, 400, 429, 398, 408, 402, 401, 419,\n",
       "       357, 399, 394, 434, 377, 397, 418, 388, 412, 360, 391, 412, 387,\n",
       "       375, 386, 394, 412, 401, 387, 399, 419, 421, 393, 404, 386, 388,\n",
       "       391, 378, 373, 397, 368, 427, 412, 398, 405, 402, 388, 387, 408,\n",
       "       408, 424, 409, 400, 398, 402, 378, 417, 407, 392, 405, 398, 401,\n",
       "       402, 431, 388, 396, 393, 430, 410, 399, 446, 411, 390, 391, 382,\n",
       "       394, 419, 410, 397, 378, 382, 389, 416, 380, 376, 411, 392, 397,\n",
       "       400, 371, 419, 397, 394, 395, 390, 387, 405, 374, 394, 375, 421,\n",
       "       384, 421, 393, 405, 400, 402, 388, 415, 407, 397, 395, 416, 407,\n",
       "       384, 380, 422, 408, 379, 387, 408, 385, 384, 404, 389, 404, 418,\n",
       "       393, 406, 419, 407, 393, 399, 397, 417, 400, 406, 420, 386, 413,\n",
       "       371, 412, 405, 399, 413, 417, 399, 412, 390, 405, 411, 397, 417,\n",
       "       409, 390, 420, 413, 397, 409, 402, 389, 375, 406, 380, 388, 411,\n",
       "       402, 366, 387, 382, 382, 386, 388, 394, 376, 420, 446, 406, 370,\n",
       "       391, 419, 420, 413, 381, 434, 408, 422, 388, 410, 384, 390, 405,\n",
       "       427, 393, 428, 384, 411, 404, 439, 404, 400, 399, 407, 450, 393,\n",
       "       410, 406, 387, 398, 393, 392, 416, 389, 400, 397, 401, 411, 356,\n",
       "       429, 406, 367, 404, 389, 415, 395, 378, 376, 387, 399, 381, 384,\n",
       "       376, 407, 409, 378, 395, 389, 371, 419, 370, 387, 385, 387, 416,\n",
       "       391, 402, 387, 417, 398, 426, 414, 398, 421, 372, 378, 400, 422,\n",
       "       416, 388, 428, 409, 413, 401, 422, 388, 402, 402, 400, 393, 408,\n",
       "       395, 381, 395, 423, 393, 391, 389, 422, 419, 403, 407, 390, 378,\n",
       "       374, 408, 420, 389, 415, 400, 407, 389, 410, 389, 391, 379, 384,\n",
       "       420, 397, 377, 415, 399, 389, 428, 410, 434, 418, 427, 384, 384,\n",
       "       403, 428, 382, 413, 384, 403, 443, 406, 429, 396, 384, 385, 409,\n",
       "       411, 405, 382, 390, 413, 407, 413, 435, 371, 416, 403, 387, 429,\n",
       "       404, 395, 409, 386, 396, 391, 394, 416, 413, 391, 406, 394, 396,\n",
       "       418, 401, 419, 397, 408, 408, 398, 412, 383, 403, 379, 401, 410,\n",
       "       374, 406, 397, 391, 423, 402, 402, 420, 388, 412, 386, 399, 416,\n",
       "       407, 419, 368, 384, 387, 381, 405, 379, 409, 396, 405, 396, 412,\n",
       "       407, 397, 426, 409, 391, 417, 391, 403, 404, 392, 393, 415, 417,\n",
       "       384, 401, 420, 393, 405, 381, 418, 396, 441, 417, 413, 386, 383,\n",
       "       385, 412, 377, 396, 413, 410, 403, 420, 416, 408, 366, 425, 380,\n",
       "       369, 403, 400, 401, 378, 379, 415, 382, 392, 425, 397, 363, 432,\n",
       "       374, 406, 388, 402, 419, 415, 414, 406, 393, 396, 377, 386, 388,\n",
       "       406, 411, 399, 392, 427, 421, 423, 408, 380, 407, 402, 404, 403,\n",
       "       410, 392, 387, 410, 393, 406, 390, 374, 396, 386, 404, 386, 394,\n",
       "       402, 390, 395, 382, 396, 399, 421, 417, 420, 410, 419, 409, 428,\n",
       "       400, 391, 409, 414, 386, 402, 429, 388, 370, 378, 379, 386, 410,\n",
       "       400, 407, 422, 382, 390, 417, 385, 402, 394, 387, 412, 379, 388,\n",
       "       388, 401, 403, 383, 384, 390, 376, 405, 410, 402, 402, 369, 384,\n",
       "       404, 403, 391, 388, 396, 415, 404, 399, 390, 411, 398, 403, 426,\n",
       "       394, 423, 393, 403, 385, 388, 425, 414, 425, 405, 400, 370, 395,\n",
       "       388, 416, 422, 375, 424, 409, 390, 399, 425, 417, 412, 383, 400,\n",
       "       425, 406, 420, 402, 394, 395, 397, 392, 398, 434, 396, 402, 395,\n",
       "       412, 409, 414, 387, 378, 419, 397, 406, 413, 379, 402, 422, 375,\n",
       "       412, 390, 401, 380, 378, 387, 404, 404, 400, 387, 405, 374, 406,\n",
       "       418, 403, 387, 416, 394, 401, 425, 405, 426, 397, 404, 401, 400,\n",
       "       395, 386, 412, 394, 374, 400, 423, 414, 418, 398, 387, 380, 405,\n",
       "       400, 413, 395, 415, 409, 417, 408, 416, 385, 391, 414, 405, 399,\n",
       "       367, 371, 384, 367, 421, 391, 420, 386, 428, 404, 387, 383, 410,\n",
       "       427, 415, 402, 406, 406, 389, 411, 427, 400, 407, 406, 394, 381,\n",
       "       413, 388, 414, 421, 417, 408, 384, 398, 392, 386, 410, 427, 380,\n",
       "       370, 423, 393, 419, 405, 386, 411, 401, 391, 418, 420, 385, 397,\n",
       "       392, 398, 403, 405, 437, 403, 393, 387, 400, 380, 409, 427, 398,\n",
       "       378, 398, 409, 397, 413, 399, 387, 419, 399, 418, 377, 416, 393,\n",
       "       414, 406, 393, 395, 414, 402, 387, 366, 389, 407, 384, 383, 437,\n",
       "       427, 418, 400, 382, 380, 407, 375, 390, 392, 387, 407, 400, 391,\n",
       "       412, 390, 419, 405, 412, 412, 387, 380, 407, 391, 402, 394, 413,\n",
       "       397, 421, 395, 399, 416, 412, 433, 409, 420, 402, 412, 396, 414,\n",
       "       416, 416, 391, 418, 414, 405, 369, 408, 403, 410, 399, 400, 406,\n",
       "       389, 379, 423, 391, 401, 407, 424, 397, 373, 435, 369, 416, 400,\n",
       "       383, 427, 392, 394, 417, 422, 399, 394, 388, 424, 412, 418, 387,\n",
       "       367, 388, 418, 388, 413, 400, 404, 386, 371, 400, 420, 392, 426,\n",
       "       368, 387, 396, 418, 398, 401, 396, 415, 412, 385, 420, 414, 420,\n",
       "       383, 393, 381, 376, 403, 426, 405, 408, 403, 392, 407, 370, 425,\n",
       "       394, 395, 379, 409, 396, 414, 400, 393, 402, 391, 413, 416])"
      ]
     },
     "execution_count": 67,
     "metadata": {},
     "output_type": "execute_result"
    }
   ],
   "source": [
    "sample"
   ]
  },
  {
   "cell_type": "code",
   "execution_count": 68,
   "id": "f4072cd4-cdfa-433c-8324-c82d260db521",
   "metadata": {},
   "outputs": [
    {
     "data": {
      "text/plain": [
       "(array([  5.,  44., 109., 190., 211., 213., 147.,  63.,  13.,   5.]),\n",
       " array([356. , 365.4, 374.8, 384.2, 393.6, 403. , 412.4, 421.8, 431.2,\n",
       "        440.6, 450. ]),\n",
       " <BarContainer object of 10 artists>)"
      ]
     },
     "execution_count": 68,
     "metadata": {},
     "output_type": "execute_result"
    },
    {
     "data": {
      "image/png": "[encoded data removed]",
      "text/plain": [
       "<Figure size 640x480 with 1 Axes>"
      ]
     },
     "metadata": {},
     "output_type": "display_data"
    }
   ],
   "source": [
    "plt.hist(sample)"
   ]
  },
  {
   "cell_type": "markdown",
   "id": "7ceb2f35-c315-4cb5-9a7f-f42cdfcfd6b8",
   "metadata": {},
   "source": [
    "## Q6. Write a Python function to calculate the cumulative distribution function of a Poisson distribution with given mean at a given point."
   ]
  },
  {
   "cell_type": "code",
   "execution_count": 56,
   "id": "95915d4a-de85-476b-b3c3-aac1a717e98d",
   "metadata": {},
   "outputs": [],
   "source": [
    "import math as m"
   ]
  },
  {
   "cell_type": "code",
   "execution_count": 57,
   "id": "d8d941ed-a623-4417-8d5a-05eef800845b",
   "metadata": {},
   "outputs": [],
   "source": [
    "sum=0\n",
    "def cdf_poisson(lam,x,k):\n",
    "    for i in range(k):\n",
    "        sum = sum+(lam**i)/m.factorial(i)\n",
    "        \n",
    "    cdf=(m.exp**(-lam))*sum"
   ]
  },
  {
   "cell_type": "markdown",
   "id": "27694b5b-ad2e-4ccc-a779-5b82715f4092",
   "metadata": {},
   "source": [
    "### Here k is the value of random variable at which you want to calculate cdf."
   ]
  },
  {
   "cell_type": "markdown",
   "id": "dfbb9722-7400-4ad6-8eda-d06ccb4b7564",
   "metadata": {},
   "source": [
    "## Q7. How Binomial distribution different from Poisson distribution?"
   ]
  },
  {
   "cell_type": "markdown",
   "id": "c9093867-b514-4769-a4bc-de3909d155eb",
   "metadata": {},
   "source": [
    "### Binomial Distribution:\n",
    "### The number of attempts are fixed.\n",
    "### The probability of success is constant.\n",
    "### There are only two possible outcomes-Success or failure."
   ]
  },
  {
   "cell_type": "markdown",
   "id": "d838e190-9c05-4ca5-ab48-9ce8e3f3253c",
   "metadata": {},
   "source": [
    "### Poisson Distribution:\n",
    "### The number of attempts are unlimited.\n",
    "###\tThe probability of success is extremely small.\n",
    "### There are unlimited possible outcomes."
   ]
  },
  {
   "cell_type": "markdown",
   "id": "626c513e-d8c9-4d5c-bd07-426043218bc3",
   "metadata": {},
   "source": [
    "## Q8. Generate a random sample of size 1000 from a Poisson distribution with mean 5 and calculate the sample mean and variance."
   ]
  },
  {
   "cell_type": "code",
   "execution_count": 61,
   "id": "037487c3-9bd1-42ff-99ef-7e6dad3d2a7c",
   "metadata": {},
   "outputs": [],
   "source": [
    "sample=np.random.poisson(lam=5,size=1000)"
   ]
  },
  {
   "cell_type": "code",
   "execution_count": 62,
   "id": "0948adfc-eb89-4093-af47-f370fa8ae6f4",
   "metadata": {},
   "outputs": [
    {
     "data": {
      "text/plain": [
       "5.032"
      ]
     },
     "execution_count": 62,
     "metadata": {},
     "output_type": "execute_result"
    }
   ],
   "source": [
    "sample.mean()"
   ]
  },
  {
   "cell_type": "code",
   "execution_count": 63,
   "id": "ec3db3ed-d29c-4f75-b44b-9eaecd0ef1b2",
   "metadata": {},
   "outputs": [
    {
     "data": {
      "text/plain": [
       "4.918976"
      ]
     },
     "execution_count": 63,
     "metadata": {},
     "output_type": "execute_result"
    }
   ],
   "source": [
    "sample.var()"
   ]
  },
  {
   "cell_type": "markdown",
   "id": "7c1a74f6-dcad-4bad-81d3-b6ab495ce9cd",
   "metadata": {},
   "source": [
    "## Q9. How mean and variance are related in Binomial distribution and Poisson distribution?"
   ]
  },
  {
   "cell_type": "markdown",
   "id": "dfeaa1a9-4ae6-47f4-b455-7e96019774f8",
   "metadata": {},
   "source": [
    "### mean>variance"
   ]
  },
  {
   "cell_type": "markdown",
   "id": "dd6272d1-755b-43b8-a5a7-f1bd860f1734",
   "metadata": {},
   "source": [
    "## Q10. In normal distribution with respect to mean position, where does the least frequent data appear?"
   ]
  },
  {
   "cell_type": "markdown",
   "id": "45bd4a1d-cf69-459d-92ab-2ff015b5dcf1",
   "metadata": {},
   "source": [
    "## away from mean position\n",
    "## (-inf,mu-3*sigma) U (mu+3*sigma,inf)"
   ]
  },
  {
   "cell_type": "code",
   "execution_count": null,
   "id": "d0cbb89c-49e0-43d3-ba18-0108ddd682ef",
   "metadata": {},
   "outputs": [],
   "source": []
  }
 ],
 "metadata": {
  "kernelspec": {
   "display_name": "Python 3 (ipykernel)",
   "language": "python",
   "name": "python3"
  },
  "language_info": {
   "codemirror_mode": {
    "name": "ipython",
    "version": 3
   },
   "file_extension": ".py",
   "mimetype": "text/x-python",
   "name": "python",
   "nbconvert_exporter": "python",
   "pygments_lexer": "ipython3",
   "version": "3.10.8"
  }
 },
 "nbformat": 4,
 "nbformat_minor": 5
}
